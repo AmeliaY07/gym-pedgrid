{
 "cells": [
  {
   "cell_type": "code",
   "execution_count": 1,
   "metadata": {},
   "outputs": [
    {
     "name": "stdout",
     "output_type": "stream",
     "text": [
      "Using matplotlib backend: Qt5Agg\n"
     ]
    }
   ],
   "source": [
    "import time\n",
    "import random\n",
    "import gym\n",
    "import gym_minigrid\n",
    "from gym_minigrid.wrappers import *\n",
    "%matplotlib auto\n",
    "%load_ext autoreload\n",
    "%autoreload 2"
   ]
  },
  {
   "cell_type": "code",
   "execution_count": 2,
   "metadata": {},
   "outputs": [],
   "source": [
    "\n",
    "# Load the gym environment\n",
    "env = gym.make('Pedestrian-Empty-9x16-v0')\n",
    "# env = RGBImgPartialObsWrapper(env) # Get pixel observations\n",
    "# env = ImgObsWrapper(env) # Get rid of the 'mission' field\n",
    "env.reset()\n",
    "\n",
    "for i in range(0, 50):\n",
    "#     print(\"step {}\".format(i))\n",
    "\n",
    "    # Pick a random action\n",
    "#     action = random.randint(0, env.action_space.n - 1)\n",
    "    action = 0\n",
    "\n",
    "    obs, reward, done, info = env.step(action)\n",
    "    \n",
    "    if done:\n",
    "        \"Reached the goal\"\n",
    "        break\n",
    "\n",
    "    env.render()\n",
    "\n",
    "#     time.sleep(0.05)\n",
    "\n",
    "# Test the close method\n",
    "env.close()\n"
   ]
  },
  {
   "cell_type": "code",
   "execution_count": null,
   "metadata": {},
   "outputs": [],
   "source": [
    "\n"
   ]
  }
 ],
 "metadata": {
  "kernelspec": {
   "display_name": "Python 3",
   "language": "python",
   "name": "python3"
  },
  "language_info": {
   "codemirror_mode": {
    "name": "ipython",
    "version": 3
   },
   "file_extension": ".py",
   "mimetype": "text/x-python",
   "name": "python",
   "nbconvert_exporter": "python",
   "pygments_lexer": "ipython3",
   "version": "3.7.9"
  }
 },
 "nbformat": 4,
 "nbformat_minor": 4
}
