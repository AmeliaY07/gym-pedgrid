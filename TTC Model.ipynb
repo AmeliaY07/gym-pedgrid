{
 "cells": [
  {
   "cell_type": "code",
   "execution_count": 2,
   "id": "0d178909",
   "metadata": {},
   "outputs": [],
   "source": [
    "import pandas as pd"
   ]
  },
  {
   "cell_type": "code",
   "execution_count": 3,
   "id": "5dd1525f",
   "metadata": {},
   "outputs": [],
   "source": [
    "df = pd.read_csv(\"TTC.csv\")"
   ]
  },
  {
   "cell_type": "code",
   "execution_count": 4,
   "id": "a3e61fac-2514-4e1c-b53b-c31a6d455948",
   "metadata": {},
   "outputs": [
    {
     "data": {
      "text/html": [
       "<div>\n",
       "<style scoped>\n",
       "    .dataframe tbody tr th:only-of-type {\n",
       "        vertical-align: middle;\n",
       "    }\n",
       "\n",
       "    .dataframe tbody tr th {\n",
       "        vertical-align: top;\n",
       "    }\n",
       "\n",
       "    .dataframe thead th {\n",
       "        text-align: right;\n",
       "    }\n",
       "</style>\n",
       "<table border=\"1\" class=\"dataframe\">\n",
       "  <thead>\n",
       "    <tr style=\"text-align: right;\">\n",
       "      <th></th>\n",
       "      <th>pedX</th>\n",
       "      <th>pedY</th>\n",
       "      <th>vehX</th>\n",
       "      <th>vehY</th>\n",
       "      <th>TTC</th>\n",
       "    </tr>\n",
       "  </thead>\n",
       "  <tbody>\n",
       "    <tr>\n",
       "      <th>0</th>\n",
       "      <td>850</td>\n",
       "      <td>269</td>\n",
       "      <td>515.025983</td>\n",
       "      <td>181.458804</td>\n",
       "      <td>3</td>\n",
       "    </tr>\n",
       "    <tr>\n",
       "      <th>1</th>\n",
       "      <td>850</td>\n",
       "      <td>239</td>\n",
       "      <td>627.025983</td>\n",
       "      <td>181.458804</td>\n",
       "      <td>2</td>\n",
       "    </tr>\n",
       "    <tr>\n",
       "      <th>2</th>\n",
       "      <td>850</td>\n",
       "      <td>209</td>\n",
       "      <td>739.025983</td>\n",
       "      <td>181.458804</td>\n",
       "      <td>1</td>\n",
       "    </tr>\n",
       "  </tbody>\n",
       "</table>\n",
       "</div>"
      ],
      "text/plain": [
       "   pedX  pedY        vehX        vehY  TTC\n",
       "0   850   269  515.025983  181.458804    3\n",
       "1   850   239  627.025983  181.458804    2\n",
       "2   850   209  739.025983  181.458804    1"
      ]
     },
     "execution_count": 4,
     "metadata": {},
     "output_type": "execute_result"
    }
   ],
   "source": [
    "df"
   ]
  },
  {
   "cell_type": "code",
   "execution_count": 6,
   "id": "e66c4e1e-e821-41a3-83b7-7728d75705af",
   "metadata": {},
   "outputs": [],
   "source": [
    "df[\"distAhead\"] = (df.pedX - df.vehX)/10 # in meters\n",
    "df[\"distLR\"] = (df.pedY - df.vehY)/10 # in meters"
   ]
  },
  {
   "cell_type": "code",
   "execution_count": 7,
   "id": "5f4c8180-5f1d-4db3-992c-e1c22b147e2d",
   "metadata": {},
   "outputs": [
    {
     "data": {
      "text/html": [
       "<div>\n",
       "<style scoped>\n",
       "    .dataframe tbody tr th:only-of-type {\n",
       "        vertical-align: middle;\n",
       "    }\n",
       "\n",
       "    .dataframe tbody tr th {\n",
       "        vertical-align: top;\n",
       "    }\n",
       "\n",
       "    .dataframe thead th {\n",
       "        text-align: right;\n",
       "    }\n",
       "</style>\n",
       "<table border=\"1\" class=\"dataframe\">\n",
       "  <thead>\n",
       "    <tr style=\"text-align: right;\">\n",
       "      <th></th>\n",
       "      <th>pedX</th>\n",
       "      <th>pedY</th>\n",
       "      <th>vehX</th>\n",
       "      <th>vehY</th>\n",
       "      <th>TTC</th>\n",
       "      <th>distAhead</th>\n",
       "      <th>distLR</th>\n",
       "    </tr>\n",
       "  </thead>\n",
       "  <tbody>\n",
       "    <tr>\n",
       "      <th>0</th>\n",
       "      <td>850</td>\n",
       "      <td>269</td>\n",
       "      <td>515.025983</td>\n",
       "      <td>181.458804</td>\n",
       "      <td>3</td>\n",
       "      <td>33.497402</td>\n",
       "      <td>8.75412</td>\n",
       "    </tr>\n",
       "    <tr>\n",
       "      <th>1</th>\n",
       "      <td>850</td>\n",
       "      <td>239</td>\n",
       "      <td>627.025983</td>\n",
       "      <td>181.458804</td>\n",
       "      <td>2</td>\n",
       "      <td>22.297402</td>\n",
       "      <td>5.75412</td>\n",
       "    </tr>\n",
       "    <tr>\n",
       "      <th>2</th>\n",
       "      <td>850</td>\n",
       "      <td>209</td>\n",
       "      <td>739.025983</td>\n",
       "      <td>181.458804</td>\n",
       "      <td>1</td>\n",
       "      <td>11.097402</td>\n",
       "      <td>2.75412</td>\n",
       "    </tr>\n",
       "  </tbody>\n",
       "</table>\n",
       "</div>"
      ],
      "text/plain": [
       "   pedX  pedY        vehX        vehY  TTC  distAhead   distLR\n",
       "0   850   269  515.025983  181.458804    3  33.497402  8.75412\n",
       "1   850   239  627.025983  181.458804    2  22.297402  5.75412\n",
       "2   850   209  739.025983  181.458804    1  11.097402  2.75412"
      ]
     },
     "execution_count": 7,
     "metadata": {},
     "output_type": "execute_result"
    }
   ],
   "source": [
    "df"
   ]
  },
  {
   "cell_type": "code",
   "execution_count": 9,
   "id": "62cc9af9-cdd4-41d6-a751-5ee7d3e5fd37",
   "metadata": {},
   "outputs": [
    {
     "data": {
      "text/plain": [
       "<matplotlib.collections.PathCollection at 0x7f7a01b3a090>"
      ]
     },
     "execution_count": 9,
     "metadata": {},
     "output_type": "execute_result"
    },
    {
     "data": {
      "image/png": "[encoded data removed]",
      "text/plain": [
       "<Figure size 432x288 with 1 Axes>"
      ]
     },
     "metadata": {
      "needs_background": "light"
     },
     "output_type": "display_data"
    }
   ],
   "source": [
    "import matplotlib.pyplot as plt\n",
    "\n",
    "x = df[df.TTC==3][\"distAhead\"]\n",
    "y = df[df.TTC==3][\"distLR\"]\n",
    "\n",
    "plt.scatter(x, y)"
   ]
  },
  {
   "cell_type": "code",
   "execution_count": null,
   "id": "ea943ddf-f5d6-4c99-857f-6efa8ec5af42",
   "metadata": {},
   "outputs": [],
   "source": []
  }
 ],
 "metadata": {
  "kernelspec": {
   "display_name": "Python 3 (ipykernel)",
   "language": "python",
   "name": "python3"
  },
  "language_info": {
   "codemirror_mode": {
    "name": "ipython",
    "version": 3
   },
   "file_extension": ".py",
   "mimetype": "text/x-python",
   "name": "python",
   "nbconvert_exporter": "python",
   "pygments_lexer": "ipython3",
   "version": "3.7.13"
  }
 },
 "nbformat": 4,
 "nbformat_minor": 5
}
